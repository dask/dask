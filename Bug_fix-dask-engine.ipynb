{
 "cells": [
  {
   "cell_type": "code",
   "execution_count": 1,
   "id": "db8874f9",
   "metadata": {},
   "outputs": [
    {
     "name": "stdout",
     "output_type": "stream",
     "text": [
      "Visualization Engine: cytoscape\n",
      "DEBUG: Final visualization engine in visualize(): cytoscape\n",
      "DEBUG: Final visualization engine in visualize_dsk(): cytoscape\n"
     ]
    },
    {
     "data": {
      "application/vnd.jupyter.widget-view+json": {
       "model_id": "5a6ff7c862ee442ba672b52e79fce477",
       "version_major": 2,
       "version_minor": 0
      },
      "text/plain": [
       "CytoscapeWidget(cytoscape_layout={'name': 'dagre', 'rankDir': 'BT', 'nodeSep': 10, 'edgeSep': 10, 'spacingFact…"
      ]
     },
     "execution_count": 1,
     "metadata": {},
     "output_type": "execute_result"
    }
   ],
   "source": [
    "import dask\n",
    "import dask.array as da\n",
    "\n",
    "dask.config.set({\"visualization.engine\": \"cytoscape\"})\n",
    "print(\"Visualization Engine:\", dask.config.get(\"visualization.engine\"))  # Should print 'cytoscape'\n",
    "\n",
    "x = da.ones((15, 15), chunks=(5, 5))\n",
    "y = x + x.T\n",
    "y.visualize()\n"
   ]
  },
  {
   "cell_type": "code",
   "execution_count": 6,
   "id": "5b2a8675",
   "metadata": {},
   "outputs": [
    {
     "name": "stdout",
     "output_type": "stream",
     "text": [
      "Visualization Engine: cytoscape\n",
      "DEBUG: Final visualization engine in visualize(): cytoscape\n",
      "DEBUG: Final visualization engine in visualize_dsk(): cytoscape\n"
     ]
    },
    {
     "data": {
      "application/vnd.jupyter.widget-view+json": {
       "model_id": "e6c220ab12c747eda54d12f8fc0f3a33",
       "version_major": 2,
       "version_minor": 0
      },
      "text/plain": [
       "CytoscapeWidget(cytoscape_layout={'name': 'dagre', 'rankDir': 'BT', 'nodeSep': 10, 'edgeSep': 10, 'spacingFact…"
      ]
     },
     "execution_count": 6,
     "metadata": {},
     "output_type": "execute_result"
    }
   ],
   "source": [
    "import dask\n",
    "import dask.dataframe as dd\n",
    "import pandas as pd\n",
    "\n",
    "# Set visualization engine to Cytoscape\n",
    "dask.config.set({\"visualization.engine\": \"cytoscape\"})\n",
    "print(\"Visualization Engine:\", dask.config.get(\"visualization.engine\"))  # Should print 'cytoscape'\n",
    "\n",
    "df = dd.from_pandas(pd.DataFrame({\"A\": range(10)}), npartitions=2)\n",
    "df.visualize(tasks=True)"
   ]
  },
  {
   "cell_type": "code",
   "execution_count": null,
   "id": "2870a64e",
   "metadata": {},
   "outputs": [],
   "source": []
  }
 ],
 "metadata": {
  "kernelspec": {
   "display_name": "Python 3 (ipykernel)",
   "language": "python",
   "name": "python3"
  },
  "language_info": {
   "codemirror_mode": {
    "name": "ipython",
    "version": 3
   },
   "file_extension": ".py",
   "mimetype": "text/x-python",
   "name": "python",
   "nbconvert_exporter": "python",
   "pygments_lexer": "ipython3",
   "version": "3.11.5"
  }
 },
 "nbformat": 4,
 "nbformat_minor": 5
}

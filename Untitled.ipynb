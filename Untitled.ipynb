{
 "cells": [
  {
   "cell_type": "code",
   "execution_count": 4,
   "id": "9ea0e290-eee6-43a7-b159-4da6d0e20975",
   "metadata": {},
   "outputs": [],
   "source": [
    "import pickle, time\n",
    "class A:\n",
    "    def __reduce__(self):\n",
    "        time.sleep(0.1)\n",
    "        return lambda : 1, ()"
   ]
  },
  {
   "cell_type": "code",
   "execution_count": 5,
   "id": "f5e030f3-d759-4dfb-a0c2-a7c28dbb3338",
   "metadata": {},
   "outputs": [],
   "source": [
    "a = A()"
   ]
  },
  {
   "cell_type": "code",
   "execution_count": 6,
   "id": "66f4d23a-ad1b-4295-a8b6-edeace26785e",
   "metadata": {},
   "outputs": [
    {
     "ename": "AttributeError",
     "evalue": "Can't pickle local object 'A.__reduce__.<locals>.<lambda>'",
     "output_type": "error",
     "traceback": [
      "\u001b[0;31m---------------------------------------------------------------------------\u001b[0m",
      "\u001b[0;31mAttributeError\u001b[0m                            Traceback (most recent call last)",
      "File \u001b[0;32m<timed eval>:1\u001b[0m\n",
      "\u001b[0;31mAttributeError\u001b[0m: Can't pickle local object 'A.__reduce__.<locals>.<lambda>'"
     ]
    }
   ],
   "source": [
    "%%time\n",
    "pickle.dumps(a)"
   ]
  }
 ],
 "metadata": {
  "kernelspec": {
   "display_name": "Python 3 (ipykernel)",
   "language": "python",
   "name": "python3"
  },
  "language_info": {
   "codemirror_mode": {
    "name": "ipython",
    "version": 3
   },
   "file_extension": ".py",
   "mimetype": "text/x-python",
   "name": "python",
   "nbconvert_exporter": "python",
   "pygments_lexer": "ipython3",
   "version": "3.10.16"
  }
 },
 "nbformat": 4,
 "nbformat_minor": 5
}
